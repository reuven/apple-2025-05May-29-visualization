{
 "cells": [
  {
   "cell_type": "markdown",
   "id": "659da929-0d98-4270-bb36-9b98080dceae",
   "metadata": {},
   "source": [
    "# Agenda\n",
    "\n",
    "1. Background on polotting in Python/Pandas\n",
    "2. Plotting with a series\n",
    "    - line plot\n",
    "    - bar plot\n",
    "    - histogram\n",
    "    - pie plot\n",
    "    - boxplot\n",
    "3. Plotting with a data frame\n",
    "    - line\n",
    "    - bar\n",
    "    - histogram\n",
    "    - pie plot\n",
    "    - boxplot\n",
    "4. Scatterplot\n",
    "5. Tricks with plots\n",
    "6. Seaborn"
   ]
  },
  {
   "cell_type": "markdown",
   "id": "673e82ea-acdc-4f02-86a2-be1d482914fe",
   "metadata": {},
   "source": [
    "# Background on plotting\n",
    "\n",
    "Matplotlib. "
   ]
  }
 ],
 "metadata": {
  "kernelspec": {
   "display_name": "Python 3 (ipykernel)",
   "language": "python",
   "name": "python3"
  },
  "language_info": {
   "codemirror_mode": {
    "name": "ipython",
    "version": 3
   },
   "file_extension": ".py",
   "mimetype": "text/x-python",
   "name": "python",
   "nbconvert_exporter": "python",
   "pygments_lexer": "ipython3",
   "version": "3.13.1"
  },
  "widgets": {
   "application/vnd.jupyter.widget-state+json": {
    "state": {},
    "version_major": 2,
    "version_minor": 0
   }
  }
 },
 "nbformat": 4,
 "nbformat_minor": 5
}
